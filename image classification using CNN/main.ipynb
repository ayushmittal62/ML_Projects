{
 "cells": [
  {
   "cell_type": "code",
   "execution_count": 2,
   "metadata": {},
   "outputs": [],
   "source": [
    "import tensorflow as tf\n",
    "from tensorflow.keras import datasets, layers, models\n",
    "import matplotlib.pyplot as plt\n",
    "import numpy as np"
   ]
  },
  {
   "cell_type": "code",
   "execution_count": 3,
   "metadata": {},
   "outputs": [
    {
     "name": "stdout",
     "output_type": "stream",
     "text": [
      "Downloading data from https://www.cs.toronto.edu/~kriz/cifar-10-python.tar.gz\n",
      "170498071/170498071 [==============================] - 84s 0us/step\n"
     ]
    }
   ],
   "source": [
    "(X_train, Y_train), (X_test, Y_test) = datasets.cifar10.load_data()"
   ]
  },
  {
   "cell_type": "code",
   "execution_count": 10,
   "metadata": {},
   "outputs": [],
   "source": [
    "classes = ['airplane', 'automobile', 'bird', 'cat', 'deer', 'dog', 'frog', 'horse', 'ship', 'truck']"
   ]
  },
  {
   "cell_type": "code",
   "execution_count": 14,
   "metadata": {},
   "outputs": [
    {
     "data": {
      "text/plain": [
       "'truck'"
      ]
     },
     "execution_count": 14,
     "metadata": {},
     "output_type": "execute_result"
    }
   ],
   "source": [
    "classes[9]"
   ]
  },
  {
   "cell_type": "code",
   "execution_count": 13,
   "metadata": {},
   "outputs": [
    {
     "data": {
      "text/plain": [
       "array([6, 9, 9, 4, 1], dtype=uint8)"
      ]
     },
     "execution_count": 13,
     "metadata": {},
     "output_type": "execute_result"
    }
   ],
   "source": [
    "Y_train = Y_train.reshape(-1)\n",
    "Y_train[:5]"
   ]
  },
  {
   "cell_type": "code",
   "execution_count": 16,
   "metadata": {},
   "outputs": [],
   "source": [
    "def plot_sample(X, Y, index):\n",
    "    plt.figure(figsize=(15, 2))\n",
    "    plt.imshow(X[index])\n",
    "    plt.xlabel(classes[Y[index]])"
   ]
  },
  {
   "cell_type": "code",
   "execution_count": 21,
   "metadata": {},
   "outputs": [
    {
     "data": {
      "image/png": "[encoded data removed]",
      "text/plain": [
       "<Figure size 1500x200 with 1 Axes>"
      ]
     },
     "metadata": {},
     "output_type": "display_data"
    }
   ],
   "source": [
    "plot_sample(X_train, Y_train, 10)"
   ]
  },
  {
   "cell_type": "code",
   "execution_count": 22,
   "metadata": {},
   "outputs": [],
   "source": [
    "X_train = X_train / 255\n",
    "X_test = X_test / 255"
   ]
  },
  {
   "cell_type": "code",
   "execution_count": 23,
   "metadata": {},
   "outputs": [
    {
     "name": "stdout",
     "output_type": "stream",
     "text": [
      "Epoch 1/5\n",
      "1563/1563 [==============================] - 71s 45ms/step - loss: 1.8162 - accuracy: 0.3510\n",
      "Epoch 2/5\n",
      "1563/1563 [==============================] - 68s 44ms/step - loss: 1.6234 - accuracy: 0.4274\n",
      "Epoch 3/5\n",
      "1563/1563 [==============================] - 70s 45ms/step - loss: 1.5428 - accuracy: 0.4559\n",
      "Epoch 4/5\n",
      "1563/1563 [==============================] - 74s 47ms/step - loss: 1.4830 - accuracy: 0.4789\n",
      "Epoch 5/5\n",
      "1563/1563 [==============================] - 70s 45ms/step - loss: 1.4322 - accuracy: 0.4957\n"
     ]
    },
    {
     "data": {
      "text/plain": [
       "<keras.src.callbacks.History at 0x17380179c10>"
      ]
     },
     "execution_count": 23,
     "metadata": {},
     "output_type": "execute_result"
    }
   ],
   "source": [
    "ann = models.Sequential([\n",
    "    layers.Flatten(input_shape = (32, 32, 3)),\n",
    "    layers.Dense(3000, activation = 'relu'),\n",
    "    layers.Dense(1000, activation = 'relu'),\n",
    "    layers.Dense(10, activation = 'sigmoid')\n",
    "])\n",
    "\n",
    "ann.compile(optimizer = 'SGD', \n",
    "            loss = 'sparse_categorical_crossentropy', \n",
    "            metrics = ['accuracy'])\n",
    "\n",
    "ann.fit(X_train, Y_train, epochs = 5)"
   ]
  },
  {
   "cell_type": "code",
   "execution_count": 30,
   "metadata": {},
   "outputs": [],
   "source": [
    "cnn = models.Sequential([\n",
    "\n",
    "    layers.Conv2D(filters = 32, kernel_size =(3,3), activation = 'relu', input_shape = (32, 32, 3)),\n",
    "    layers.MaxPooling2D((2,2)),\n",
    "\n",
    "    layers.Conv2D(filters = 64, kernel_size =(3,3), activation = 'relu'),\n",
    "    layers.MaxPooling2D((2,2)),\n",
    "\n",
    "    layers.Flatten(),\n",
    "    layers.Dense(64, activation = 'relu'),\n",
    "    layers.Dense(10, activation = 'softmax')\n",
    "])"
   ]
  },
  {
   "cell_type": "code",
   "execution_count": 31,
   "metadata": {},
   "outputs": [],
   "source": [
    "cnn.compile(optimizer = 'SGD', \n",
    "            loss = 'sparse_categorical_crossentropy', \n",
    "            metrics = ['accuracy'])"
   ]
  },
  {
   "cell_type": "code",
   "execution_count": 35,
   "metadata": {},
   "outputs": [
    {
     "name": "stdout",
     "output_type": "stream",
     "text": [
      "Epoch 1/25\n",
      "1563/1563 [==============================] - 22s 14ms/step - loss: 0.9284 - accuracy: 0.6806\n",
      "Epoch 2/25\n",
      "1563/1563 [==============================] - 21s 14ms/step - loss: 0.8962 - accuracy: 0.6920\n",
      "Epoch 3/25\n",
      "1563/1563 [==============================] - 22s 14ms/step - loss: 0.8651 - accuracy: 0.7013\n",
      "Epoch 4/25\n",
      "1563/1563 [==============================] - 21s 14ms/step - loss: 0.8368 - accuracy: 0.7127\n",
      "Epoch 5/25\n",
      "1563/1563 [==============================] - 21s 14ms/step - loss: 0.8096 - accuracy: 0.7207\n",
      "Epoch 6/25\n",
      "1563/1563 [==============================] - 23s 15ms/step - loss: 0.7809 - accuracy: 0.7314\n",
      "Epoch 7/25\n",
      "1563/1563 [==============================] - 22s 14ms/step - loss: 0.7559 - accuracy: 0.7388\n",
      "Epoch 8/25\n",
      "1563/1563 [==============================] - 22s 14ms/step - loss: 0.7293 - accuracy: 0.7500\n",
      "Epoch 9/25\n",
      "1563/1563 [==============================] - 23s 14ms/step - loss: 0.7077 - accuracy: 0.7562\n",
      "Epoch 10/25\n",
      "1563/1563 [==============================] - 22s 14ms/step - loss: 0.6829 - accuracy: 0.7643\n",
      "Epoch 11/25\n",
      "1563/1563 [==============================] - 23s 15ms/step - loss: 0.6593 - accuracy: 0.7733\n",
      "Epoch 12/25\n",
      "1563/1563 [==============================] - 23s 15ms/step - loss: 0.6348 - accuracy: 0.7827\n",
      "Epoch 13/25\n",
      "1563/1563 [==============================] - 22s 14ms/step - loss: 0.6144 - accuracy: 0.7875\n",
      "Epoch 14/25\n",
      "1563/1563 [==============================] - 24s 15ms/step - loss: 0.5901 - accuracy: 0.7979\n",
      "Epoch 15/25\n",
      "1563/1563 [==============================] - 27s 18ms/step - loss: 0.5668 - accuracy: 0.8036\n",
      "Epoch 16/25\n",
      "1563/1563 [==============================] - 30s 19ms/step - loss: 0.5467 - accuracy: 0.8122\n",
      "Epoch 17/25\n",
      "1563/1563 [==============================] - 25s 16ms/step - loss: 0.5245 - accuracy: 0.8192\n",
      "Epoch 18/25\n",
      "1563/1563 [==============================] - 23s 15ms/step - loss: 0.5043 - accuracy: 0.8269\n",
      "Epoch 19/25\n",
      "1563/1563 [==============================] - 23s 15ms/step - loss: 0.4839 - accuracy: 0.8348\n",
      "Epoch 20/25\n",
      "1563/1563 [==============================] - 22s 14ms/step - loss: 0.4627 - accuracy: 0.8413\n",
      "Epoch 21/25\n",
      "1563/1563 [==============================] - 24s 16ms/step - loss: 0.4428 - accuracy: 0.8476\n",
      "Epoch 22/25\n",
      "1563/1563 [==============================] - 24s 16ms/step - loss: 0.4210 - accuracy: 0.8556\n",
      "Epoch 23/25\n",
      "1563/1563 [==============================] - 25s 16ms/step - loss: 0.4006 - accuracy: 0.8633\n",
      "Epoch 24/25\n",
      "1563/1563 [==============================] - 25s 16ms/step - loss: 0.3818 - accuracy: 0.8704\n",
      "Epoch 25/25\n",
      "1563/1563 [==============================] - 24s 16ms/step - loss: 0.3625 - accuracy: 0.8778\n"
     ]
    },
    {
     "data": {
      "text/plain": [
       "<keras.src.callbacks.History at 0x17380581e80>"
      ]
     },
     "execution_count": 35,
     "metadata": {},
     "output_type": "execute_result"
    }
   ],
   "source": [
    "cnn.fit(X_train, Y_train, epochs= 25)"
   ]
  },
  {
   "cell_type": "code",
   "execution_count": 38,
   "metadata": {},
   "outputs": [
    {
     "name": "stdout",
     "output_type": "stream",
     "text": [
      "313/313 [==============================] - 2s 5ms/step - loss: 1.2943 - accuracy: 0.6581\n"
     ]
    },
    {
     "data": {
      "text/plain": [
       "[1.2943007946014404, 0.6581000089645386]"
      ]
     },
     "execution_count": 38,
     "metadata": {},
     "output_type": "execute_result"
    }
   ],
   "source": [
    "cnn.evaluate( X_test, Y_test)"
   ]
  },
  {
   "cell_type": "code",
   "execution_count": 39,
   "metadata": {},
   "outputs": [
    {
     "data": {
      "text/plain": [
       "array([3, 8, 8, ..., 5, 1, 7], dtype=uint8)"
      ]
     },
     "execution_count": 39,
     "metadata": {},
     "output_type": "execute_result"
    }
   ],
   "source": [
    "Y_test = Y_test.reshape(-1, )\n",
    "Y_test\n"
   ]
  },
  {
   "cell_type": "code",
   "execution_count": 42,
   "metadata": {},
   "outputs": [
    {
     "data": {
      "image/png": "[encoded data removed]",
      "text/plain": [
       "<Figure size 1500x200 with 1 Axes>"
      ]
     },
     "metadata": {},
     "output_type": "display_data"
    }
   ],
   "source": [
    "plot_sample(X_test, Y_test, 7)"
   ]
  },
  {
   "cell_type": "code",
   "execution_count": 43,
   "metadata": {},
   "outputs": [
    {
     "name": "stdout",
     "output_type": "stream",
     "text": [
      "313/313 [==============================] - 2s 6ms/step\n"
     ]
    },
    {
     "data": {
      "text/plain": [
       "array([[2.2876153e-03, 1.2955850e-04, 6.2345824e-04, 9.9624169e-01,\n",
       "        5.2692660e-05, 1.9042937e-04, 3.8795298e-04, 2.3200706e-05,\n",
       "        6.3451189e-05, 4.1094903e-08],\n",
       "       [3.2521266e-04, 5.5211651e-01, 3.6090793e-08, 2.7650546e-09,\n",
       "        2.7780631e-10, 1.1040593e-14, 1.0021346e-11, 2.5365229e-10,\n",
       "        4.4753137e-01, 2.6757642e-05],\n",
       "       [4.6642321e-01, 5.6459039e-02, 1.8862558e-05, 8.7719338e-05,\n",
       "        1.2310801e-04, 9.1017642e-07, 4.7884023e-06, 1.8714860e-03,\n",
       "        4.7350067e-01, 1.5101249e-03],\n",
       "       [6.0021931e-01, 3.4571889e-01, 7.6589722e-04, 2.0117783e-03,\n",
       "        1.1671819e-03, 5.6786245e-08, 2.1243719e-05, 8.7077642e-05,\n",
       "        4.9754634e-02, 2.5390222e-04],\n",
       "       [6.3560854e-09, 2.2761997e-06, 1.6001922e-04, 4.4474481e-03,\n",
       "        9.8478055e-01, 2.0970596e-04, 1.0388790e-02, 5.6804010e-06,\n",
       "        5.5037858e-06, 1.1955591e-08]], dtype=float32)"
      ]
     },
     "execution_count": 43,
     "metadata": {},
     "output_type": "execute_result"
    }
   ],
   "source": [
    "y_pred = cnn.predict(X_test)\n",
    "y_pred[:5]"
   ]
  },
  {
   "cell_type": "code",
   "execution_count": 48,
   "metadata": {},
   "outputs": [
    {
     "data": {
      "text/plain": [
       "[3, 1, 8, 0, 4]"
      ]
     },
     "execution_count": 48,
     "metadata": {},
     "output_type": "execute_result"
    }
   ],
   "source": [
    "Y_classes = [np.argmax(element) for element in y_pred]\n",
    "Y_classes[:5]"
   ]
  },
  {
   "cell_type": "code",
   "execution_count": 46,
   "metadata": {},
   "outputs": [
    {
     "data": {
      "text/plain": [
       "array([3, 8, 8, 0, 6], dtype=uint8)"
      ]
     },
     "execution_count": 46,
     "metadata": {},
     "output_type": "execute_result"
    }
   ],
   "source": [
    "Y_test[:5]"
   ]
  },
  {
   "cell_type": "code",
   "execution_count": 51,
   "metadata": {},
   "outputs": [
    {
     "name": "stdout",
     "output_type": "stream",
     "text": [
      "Classification Report: \n",
      "               precision    recall  f1-score   support\n",
      "\n",
      "           0       0.73      0.70      0.71      1000\n",
      "           1       0.60      0.87      0.71      1000\n",
      "           2       0.63      0.50      0.56      1000\n",
      "           3       0.56      0.39      0.46      1000\n",
      "           4       0.60      0.59      0.59      1000\n",
      "           5       0.60      0.54      0.57      1000\n",
      "           6       0.68      0.81      0.74      1000\n",
      "           7       0.75      0.69      0.72      1000\n",
      "           8       0.71      0.82      0.76      1000\n",
      "           9       0.71      0.68      0.69      1000\n",
      "\n",
      "    accuracy                           0.66     10000\n",
      "   macro avg       0.66      0.66      0.65     10000\n",
      "weighted avg       0.66      0.66      0.65     10000\n",
      "\n"
     ]
    }
   ],
   "source": [
    "from sklearn.metrics import confusion_matrix, classification_report\n",
    "print(\"Classification Report: \\n\", classification_report(Y_test, Y_classes))"
   ]
  }
 ],
 "metadata": {
  "kernelspec": {
   "display_name": "Python 3",
   "language": "python",
   "name": "python3"
  },
  "language_info": {
   "codemirror_mode": {
    "name": "ipython",
    "version": 3
   },
   "file_extension": ".py",
   "mimetype": "text/x-python",
   "name": "python",
   "nbconvert_exporter": "python",
   "pygments_lexer": "ipython3",
   "version": "3.8.7"
  }
 },
 "nbformat": 4,
 "nbformat_minor": 2
}
